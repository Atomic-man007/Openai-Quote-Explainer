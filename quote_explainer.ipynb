{
 "cells": [
  {
   "cell_type": "markdown",
   "metadata": {},
   "source": [
    "QUOTE EXPLAINER USING OPENAI AND LANGCHAIN\n",
    "\n",
    "AIM: THE MAIN AIM OF THIS PROJECT IS TO FIND ELABORATED MEANING OF A QUOTE(UPLOADED AS IMAGE) BY INTERACTING WITH OPENAI USING LANGCHAIN"
   ]
  },
  {
   "cell_type": "code",
   "execution_count": 4,
   "metadata": {},
   "outputs": [],
   "source": [
    "#IMPORTING LIBRARIES\n",
    "import os\n",
    "import openai\n",
    "import easyocr\n",
    "from gtts import gTTS\n",
    "import soundfile as sf\n",
    "import sounddevice as sd\n",
    "from langchain.llms import OpenAI\n",
    "from langchain import PromptTemplate, LLMChain\n",
    "from dotenv import load_dotenv, find_dotenv\n",
    "_ = load_dotenv(find_dotenv())"
   ]
  },
  {
   "cell_type": "code",
   "execution_count": 11,
   "metadata": {},
   "outputs": [],
   "source": [
    "def get_ocr_text(image_file):\n",
    "    reader = easyocr.Reader(['en'])\n",
    "    result = reader.readtext(image_file)\n",
    "    extracted_text = '\\n'.join([detection[1] for detection in result])\n",
    "    text = extracted_text.replace(\"\\n\",\" \")\n",
    "    return text"
   ]
  },
  {
   "cell_type": "code",
   "execution_count": 20,
   "metadata": {},
   "outputs": [
    {
     "data": {
      "text/plain": [
       "'Live as if you were to die tomorrow Learn as if you were to live forever: Mahatma Gandhi +Alireza Yavari'"
      ]
     },
     "execution_count": 20,
     "metadata": {},
     "output_type": "execute_result"
    }
   ],
   "source": [
    "ocr_text = get_ocr_text(r\"./resources\\gandhi-great-quotes.jpg\")\n",
    "ocr_text"
   ]
  },
  {
   "cell_type": "code",
   "execution_count": 18,
   "metadata": {},
   "outputs": [],
   "source": [
    "#SPECIFY OPENAI API KEY\n",
    "openai.api_key = os.environ['OPENAI_API_KEY']"
   ]
  },
  {
   "cell_type": "code",
   "execution_count": 8,
   "metadata": {},
   "outputs": [],
   "source": [
    "template = \"\"\"\n",
    "Please provide a detailed explanation of the meaning of the following quote : {text} \"\"\"\n",
    "prompt = PromptTemplate(template=template, input_variables=[\"text\"])\n",
    "llm = OpenAI()\n",
    "llm_chain = LLMChain(prompt=prompt, llm=llm)"
   ]
  },
  {
   "cell_type": "code",
   "execution_count": 9,
   "metadata": {},
   "outputs": [],
   "source": [
    "def get_answer(text):\n",
    "    answer = llm_chain.run(text)\n",
    "    return answer"
   ]
  },
  {
   "cell_type": "code",
   "execution_count": null,
   "metadata": {},
   "outputs": [],
   "source": [
    "generated_answer = get_answer(ocr_text)"
   ]
  },
  {
   "cell_type": "code",
   "execution_count": 7,
   "metadata": {},
   "outputs": [],
   "source": [
    "#SPEECH GENERATION                                         \n",
    "\n",
    "tts = gTTS(text=generated_answer, lang=\"en\", slow=False)\n",
    "tts.save(\"output.mp3\")"
   ]
  },
  {
   "cell_type": "code",
   "execution_count": 8,
   "metadata": {},
   "outputs": [],
   "source": [
    "#SPEECH PLAYBACK\n",
    "\n",
    "audio_file = \"output.mp3\"\n",
    "\n",
    "data, sample_rate = sf.read(audio_file)\n",
    "\n",
    "sd.play(data, sample_rate)\n",
    "sd.wait() "
   ]
  }
 ],
 "metadata": {
  "kernelspec": {
   "display_name": "Python 3",
   "language": "python",
   "name": "python3"
  },
  "language_info": {
   "codemirror_mode": {
    "name": "ipython",
    "version": 3
   },
   "file_extension": ".py",
   "mimetype": "text/x-python",
   "name": "python",
   "nbconvert_exporter": "python",
   "pygments_lexer": "ipython3",
   "version": "3.10.9"
  },
  "orig_nbformat": 4
 },
 "nbformat": 4,
 "nbformat_minor": 2
}
